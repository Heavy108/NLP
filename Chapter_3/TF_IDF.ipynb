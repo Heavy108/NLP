{
  "nbformat": 4,
  "nbformat_minor": 0,
  "metadata": {
    "colab": {
      "provenance": []
    },
    "kernelspec": {
      "name": "python3",
      "display_name": "Python 3"
    },
    "language_info": {
      "name": "python"
    }
  },
  "cells": [
    {
      "cell_type": "code",
      "execution_count": 2,
      "metadata": {
        "colab": {
          "base_uri": "https://localhost:8080/"
        },
        "id": "YQ1U4bpkF3MZ",
        "outputId": "f04d8234-569b-44ad-8fa2-183afdf2a156"
      },
      "outputs": [
        {
          "output_type": "stream",
          "name": "stdout",
          "text": [
            "81\n"
          ]
        },
        {
          "output_type": "execute_result",
          "data": {
            "text/plain": [
              "['the',\n",
              " 'faster',\n",
              " 'harry',\n",
              " 'got',\n",
              " 'to',\n",
              " 'the',\n",
              " 'store',\n",
              " ',',\n",
              " 'the',\n",
              " 'faster',\n",
              " 'harry',\n",
              " ',',\n",
              " 'the',\n",
              " 'faster',\n",
              " ',',\n",
              " 'would',\n",
              " 'get',\n",
              " 'home',\n",
              " '.']"
            ]
          },
          "metadata": {},
          "execution_count": 2
        }
      ],
      "source": [
        "from nltk.tokenize import TreebankWordTokenizer\n",
        "sentence =\"\"\"The faster harry got to the store , the faster harry ,the faster, would get Home.\"\"\"\n",
        "tokenizer =TreebankWordTokenizer()\n",
        "print(len(sentence))\n",
        "tokenizer.tokenize(sentence)\n",
        "tokens =tokenizer.tokenize(sentence.lower())\n",
        "tokens"
      ]
    },
    {
      "cell_type": "markdown",
      "source": [
        "A collections.Counter object is an unordered collection, also\n",
        "called a bag or multiset. Depending on your platform and Python version,\n",
        "you may find that a Counter is displayed in a seemingly reasonable order,\n",
        "like lexical order or the order that tokens appeared in your statement. But\n",
        "just as for a standard Python dict, you cannot rely on the order of your\n",
        "tokens (keys) in a Counter.\n"
      ],
      "metadata": {
        "id": "6xAYy1tTO7xP"
      }
    },
    {
      "cell_type": "code",
      "source": [
        "from collections import Counter\n",
        "bag_of_words =Counter(tokens)\n",
        "print(bag_of_words.most_common(2))\n",
        "print(bag_of_words)\n",
        "print(bag_of_words['harry'])\n",
        "#number of unique tokens from your original source\n",
        "num_unique_words =len(bag_of_words)\n",
        "print(num_unique_words)\n"
      ],
      "metadata": {
        "colab": {
          "base_uri": "https://localhost:8080/"
        },
        "id": "-96MBMbxOQ-N",
        "outputId": "b82ff1b9-9557-4142-d3ec-791dc7292ee1"
      },
      "execution_count": 3,
      "outputs": [
        {
          "output_type": "stream",
          "name": "stdout",
          "text": [
            "[('the', 4), ('faster', 3)]\n",
            "Counter({'the': 4, 'faster': 3, ',': 3, 'harry': 2, 'got': 1, 'to': 1, 'store': 1, 'would': 1, 'get': 1, 'home': 1, '.': 1})\n",
            "2\n",
            "11\n"
          ]
        }
      ]
    },
    {
      "cell_type": "code",
      "source": [
        "#term frequencies\n",
        "tf =bag_of_words['harry']/(num_unique_words)\n",
        "print(round(tf,3))"
      ],
      "metadata": {
        "colab": {
          "base_uri": "https://localhost:8080/"
        },
        "id": "gYVhci47XzaX",
        "outputId": "249f36da-85c8-4f23-b360-16bec15d30fe"
      },
      "execution_count": 4,
      "outputs": [
        {
          "output_type": "stream",
          "name": "stdout",
          "text": [
            "0.182\n"
          ]
        }
      ]
    },
    {
      "cell_type": "code",
      "source": [
        "from collections import Counter\n",
        "from nltk.tokenize import TreebankWordTokenizer\n",
        "tokenizer =TreebankWordTokenizer()\n",
        "kite_text=\"\"\"A kite is traditionally a tethered heavier-than-air craft with wing surfaces that react\n",
        "against the air to create lift and drag. A kite consists of wings, tethers, and anchors.\n",
        "Kites often have a bridle to guide the face of the kite at the correct angle so the wind\n",
        "can lift it. A kite’s wing also may be so designed so a bridle is not needed; when\n",
        "kiting a sailplane for launch, the tether meets the wing at a single point. A kite may\n",
        "have fixed or moving anchors. Untraditionally in technical kiting, a kite consists of\n",
        "tether-set-coupled wing sets; even in technical kiting, though, a wing in the system is\n",
        "still often called the kite.\n",
        "The lift that sustains the kite in flight is generated when air flows around the kite’s\n",
        "surface, producing low pressure above and high pressure below the wings. The\n",
        "interaction with the wind also generates horizontal drag along the direction of the\n",
        "wind. The resultant force vector from the lift and drag force components is opposed\n",
        "by the tension of one or more of the lines or tethers to which the kite is attached. The\n",
        "anchor point of the kite line may be static or moving (such as the towing of a kite by\n",
        "a running person, boat, free-falling anchors as in paragliders and fugitive parakites\n",
        "or vehicle).\n",
        "The same principles of fluid flow apply in liquids and kites are also used under water.\n",
        "A hybrid tethered craft comprising both a lighter-than-air balloon as well as a kite\n",
        "lifting surface is called a kytoon\n",
        "Kites have a long and varied history and many different types are flown\n",
        "individually and at festivals worldwide. Kites may be flown for recreation, art or\n",
        "other practical uses. Sport kites can be flown in aerial ballet, sometimes as part of a\n",
        "competition. Power kites are multi-line steerable kites designed to generate large forces\n",
        "which can be used to power activities such as kite surfing, kite landboarding, kite\n",
        "fishing, kite buggying and a new trend snow kiting. Even Man-lifting kites have\n",
        "been made.\n",
        "\n",
        "\"\"\"\n",
        "tokens = tokenizer.tokenize(kite_text.lower())\n",
        "token_counts= Counter(tokens)\n",
        "len(token_counts)"
      ],
      "metadata": {
        "colab": {
          "base_uri": "https://localhost:8080/"
        },
        "id": "J65SbpsYY0Ni",
        "outputId": "1953641e-ed8d-4b1d-82fa-1078292a0a40"
      },
      "execution_count": 5,
      "outputs": [
        {
          "output_type": "execute_result",
          "data": {
            "text/plain": [
              "179"
            ]
          },
          "metadata": {},
          "execution_count": 5
        }
      ]
    },
    {
      "cell_type": "code",
      "source": [
        "import nltk\n",
        "nltk.download('stopwords' , quiet=True)\n",
        "stopwords =nltk.corpus.stopwords.words('english')\n",
        "tokens = [x for x in tokens if x not in stopwords ]\n",
        "kite_counts =Counter(tokens)\n",
        "len(kite_counts)"
      ],
      "metadata": {
        "colab": {
          "base_uri": "https://localhost:8080/"
        },
        "id": "ad-xu_N3dyhk",
        "outputId": "e594d4fa-7ffb-4fe4-abf1-1882d2df61d8"
      },
      "execution_count": 6,
      "outputs": [
        {
          "output_type": "execute_result",
          "data": {
            "text/plain": [
              "146"
            ]
          },
          "metadata": {},
          "execution_count": 6
        }
      ]
    },
    {
      "cell_type": "code",
      "source": [
        "#Vectorizing\n",
        "document_vector=[]\n",
        "doc_length =len(tokens)\n",
        "for key ,value in kite_counts.most_common():\n",
        "  document_vector.append(value/doc_length)\n",
        "print(document_vector)\n"
      ],
      "metadata": {
        "colab": {
          "base_uri": "https://localhost:8080/"
        },
        "id": "FuK9yoCdgyl0",
        "outputId": "187dc569-17c3-4e68-c42d-b31091bef0a9"
      },
      "execution_count": 7,
      "outputs": [
        {
          "output_type": "stream",
          "name": "stdout",
          "text": [
            "[0.06422018348623854, 0.06422018348623854, 0.03669724770642202, 0.022935779816513763, 0.01834862385321101, 0.01834862385321101, 0.013761467889908258, 0.013761467889908258, 0.013761467889908258, 0.009174311926605505, 0.009174311926605505, 0.009174311926605505, 0.009174311926605505, 0.009174311926605505, 0.009174311926605505, 0.009174311926605505, 0.009174311926605505, 0.009174311926605505, 0.009174311926605505, 0.009174311926605505, 0.009174311926605505, 0.009174311926605505, 0.009174311926605505, 0.009174311926605505, 0.009174311926605505, 0.009174311926605505, 0.009174311926605505, 0.009174311926605505, 0.009174311926605505, 0.009174311926605505, 0.009174311926605505, 0.009174311926605505, 0.0045871559633027525, 0.0045871559633027525, 0.0045871559633027525, 0.0045871559633027525, 0.0045871559633027525, 0.0045871559633027525, 0.0045871559633027525, 0.0045871559633027525, 0.0045871559633027525, 0.0045871559633027525, 0.0045871559633027525, 0.0045871559633027525, 0.0045871559633027525, 0.0045871559633027525, 0.0045871559633027525, 0.0045871559633027525, 0.0045871559633027525, 0.0045871559633027525, 0.0045871559633027525, 0.0045871559633027525, 0.0045871559633027525, 0.0045871559633027525, 0.0045871559633027525, 0.0045871559633027525, 0.0045871559633027525, 0.0045871559633027525, 0.0045871559633027525, 0.0045871559633027525, 0.0045871559633027525, 0.0045871559633027525, 0.0045871559633027525, 0.0045871559633027525, 0.0045871559633027525, 0.0045871559633027525, 0.0045871559633027525, 0.0045871559633027525, 0.0045871559633027525, 0.0045871559633027525, 0.0045871559633027525, 0.0045871559633027525, 0.0045871559633027525, 0.0045871559633027525, 0.0045871559633027525, 0.0045871559633027525, 0.0045871559633027525, 0.0045871559633027525, 0.0045871559633027525, 0.0045871559633027525, 0.0045871559633027525, 0.0045871559633027525, 0.0045871559633027525, 0.0045871559633027525, 0.0045871559633027525, 0.0045871559633027525, 0.0045871559633027525, 0.0045871559633027525, 0.0045871559633027525, 0.0045871559633027525, 0.0045871559633027525, 0.0045871559633027525, 0.0045871559633027525, 0.0045871559633027525, 0.0045871559633027525, 0.0045871559633027525, 0.0045871559633027525, 0.0045871559633027525, 0.0045871559633027525, 0.0045871559633027525, 0.0045871559633027525, 0.0045871559633027525, 0.0045871559633027525, 0.0045871559633027525, 0.0045871559633027525, 0.0045871559633027525, 0.0045871559633027525, 0.0045871559633027525, 0.0045871559633027525, 0.0045871559633027525, 0.0045871559633027525, 0.0045871559633027525, 0.0045871559633027525, 0.0045871559633027525, 0.0045871559633027525, 0.0045871559633027525, 0.0045871559633027525, 0.0045871559633027525, 0.0045871559633027525, 0.0045871559633027525, 0.0045871559633027525, 0.0045871559633027525, 0.0045871559633027525, 0.0045871559633027525, 0.0045871559633027525, 0.0045871559633027525, 0.0045871559633027525, 0.0045871559633027525, 0.0045871559633027525, 0.0045871559633027525, 0.0045871559633027525, 0.0045871559633027525, 0.0045871559633027525, 0.0045871559633027525, 0.0045871559633027525, 0.0045871559633027525, 0.0045871559633027525, 0.0045871559633027525, 0.0045871559633027525, 0.0045871559633027525, 0.0045871559633027525, 0.0045871559633027525, 0.0045871559633027525, 0.0045871559633027525, 0.0045871559633027525, 0.0045871559633027525]\n"
          ]
        }
      ]
    },
    {
      "cell_type": "code",
      "source": [
        "docs =[\"The faster Harry got to the store , the faster and faster Harry would get home.\"]\n",
        "docs.append(\"Harry is hairy and faster than Jill.\")\n",
        "docs.append(\"Jill is not as hairy as Harry.\")\n",
        "doc_tokens=[]\n",
        "for doc in docs:\n",
        "  doc_tokens = doc_tokens +[sorted(tokenizer.tokenize(doc.lower()))]\n",
        "\n",
        "print(len(doc_tokens[0]))\n",
        "all_doc_tokens =sum(doc_tokens,[])\n",
        "print(len(all_doc_tokens))\n",
        "lexicon =sorted(set(all_doc_tokens))\n",
        "print(lexicon)\n",
        "print(len(lexicon))"
      ],
      "metadata": {
        "colab": {
          "base_uri": "https://localhost:8080/"
        },
        "id": "PPGoJ2uVg00R",
        "outputId": "06b8411d-f19d-46ad-83d5-72e6d23832e3"
      },
      "execution_count": 8,
      "outputs": [
        {
          "output_type": "stream",
          "name": "stdout",
          "text": [
            "17\n",
            "33\n",
            "[',', '.', 'and', 'as', 'faster', 'get', 'got', 'hairy', 'harry', 'home', 'is', 'jill', 'not', 'store', 'than', 'the', 'to', 'would']\n",
            "18\n"
          ]
        }
      ]
    },
    {
      "cell_type": "code",
      "source": [
        "from collections import OrderedDict\n",
        "zero_vector =OrderedDict((token,0) for token in lexicon)\n",
        "zero_vector"
      ],
      "metadata": {
        "colab": {
          "base_uri": "https://localhost:8080/"
        },
        "id": "xzl9W09SnKft",
        "outputId": "2aac8a87-15ec-4629-f8e7-fff34cd62f8f"
      },
      "execution_count": 9,
      "outputs": [
        {
          "output_type": "execute_result",
          "data": {
            "text/plain": [
              "OrderedDict([(',', 0),\n",
              "             ('.', 0),\n",
              "             ('and', 0),\n",
              "             ('as', 0),\n",
              "             ('faster', 0),\n",
              "             ('get', 0),\n",
              "             ('got', 0),\n",
              "             ('hairy', 0),\n",
              "             ('harry', 0),\n",
              "             ('home', 0),\n",
              "             ('is', 0),\n",
              "             ('jill', 0),\n",
              "             ('not', 0),\n",
              "             ('store', 0),\n",
              "             ('than', 0),\n",
              "             ('the', 0),\n",
              "             ('to', 0),\n",
              "             ('would', 0)])"
            ]
          },
          "metadata": {},
          "execution_count": 9
        }
      ]
    },
    {
      "cell_type": "code",
      "source": [
        "import copy\n",
        "doc_vectors=[]\n",
        "for dooc in docs:\n",
        "  vex =copy.copy(zero_vector)\n",
        "  tokens =tokenizer.tokenize(dooc.lower())\n",
        "  token_counts =Counter(tokens)\n",
        "  for key,value in token_counts.items():\n",
        "    vex[key]=round(value/len(lexicon),4)\n",
        "  doc_vectors.append(vex)\n",
        "\n",
        "print(doc_vectors)"
      ],
      "metadata": {
        "colab": {
          "base_uri": "https://localhost:8080/"
        },
        "id": "QCEIRTKEn6D2",
        "outputId": "17c079f2-905f-48fc-c12d-29563e9258f5"
      },
      "execution_count": 10,
      "outputs": [
        {
          "output_type": "stream",
          "name": "stdout",
          "text": [
            "[OrderedDict([(',', 0.0556), ('.', 0.0556), ('and', 0.0556), ('as', 0), ('faster', 0.1667), ('get', 0.0556), ('got', 0.0556), ('hairy', 0), ('harry', 0.1111), ('home', 0.0556), ('is', 0), ('jill', 0), ('not', 0), ('store', 0.0556), ('than', 0), ('the', 0.1667), ('to', 0.0556), ('would', 0.0556)]), OrderedDict([(',', 0), ('.', 0.0556), ('and', 0.0556), ('as', 0), ('faster', 0.0556), ('get', 0), ('got', 0), ('hairy', 0.0556), ('harry', 0.0556), ('home', 0), ('is', 0.0556), ('jill', 0.0556), ('not', 0), ('store', 0), ('than', 0.0556), ('the', 0), ('to', 0), ('would', 0)]), OrderedDict([(',', 0), ('.', 0.0556), ('and', 0), ('as', 0.1111), ('faster', 0), ('get', 0), ('got', 0), ('hairy', 0.0556), ('harry', 0.0556), ('home', 0), ('is', 0.0556), ('jill', 0.0556), ('not', 0.0556), ('store', 0), ('than', 0), ('the', 0), ('to', 0), ('would', 0)])]\n"
          ]
        }
      ]
    },
    {
      "cell_type": "code",
      "source": [
        "import math\n",
        "\n",
        "def cosine_sim(vec1 ,vec2):\n",
        "\n",
        "  vec1 =[val for val in vec1.values()]\n",
        "  vec2 =[val for val in vec2.values()]\n",
        "\n",
        "  dot_prod =0\n",
        "  for i,v in enumerate(vec1):\n",
        "    dot_prod +=v*vec2[i]\n",
        "\n",
        "  mag_1 =math.sqrt(sum([x**2 for x in vec1]))\n",
        "  mag_2 =math.sqrt(sum([x**2 for x in vec2]))\n",
        "\n",
        "  return dot_prod/(mag_1*mag_2)"
      ],
      "metadata": {
        "id": "Wx9PAAsgiI0p"
      },
      "execution_count": 11,
      "outputs": []
    },
    {
      "cell_type": "code",
      "source": [
        "cosine_sim(doc_vectors[0],doc_vectors[1])"
      ],
      "metadata": {
        "colab": {
          "base_uri": "https://localhost:8080/"
        },
        "id": "hOE1Xz0jnMr-",
        "outputId": "89acae1e-83b1-4df0-8b6e-1f7fe784ca68"
      },
      "execution_count": 12,
      "outputs": [
        {
          "output_type": "execute_result",
          "data": {
            "text/plain": [
              "0.44447830760273627"
            ]
          },
          "metadata": {},
          "execution_count": 12
        }
      ]
    },
    {
      "cell_type": "code",
      "source": [
        "# nltk.download('brown')\n",
        "from nltk.corpus import brown\n",
        "print(brown.tagged_words()[:7])\n",
        "print(len(brown.words()))\n",
        "brown.words()[:10]"
      ],
      "metadata": {
        "colab": {
          "base_uri": "https://localhost:8080/"
        },
        "id": "8gZPRxk8nqob",
        "outputId": "81cbce36-7c3f-479e-c205-335271c88e0b"
      },
      "execution_count": 13,
      "outputs": [
        {
          "output_type": "stream",
          "name": "stdout",
          "text": [
            "[('The', 'AT'), ('Fulton', 'NP-TL'), ('County', 'NN-TL'), ('Grand', 'JJ-TL'), ('Jury', 'NN-TL'), ('said', 'VBD'), ('Friday', 'NR')]\n",
            "1161192\n"
          ]
        },
        {
          "output_type": "execute_result",
          "data": {
            "text/plain": [
              "['The',\n",
              " 'Fulton',\n",
              " 'County',\n",
              " 'Grand',\n",
              " 'Jury',\n",
              " 'said',\n",
              " 'Friday',\n",
              " 'an',\n",
              " 'investigation',\n",
              " 'of']"
            ]
          },
          "metadata": {},
          "execution_count": 13
        }
      ]
    },
    {
      "cell_type": "code",
      "source": [
        "from collections import Counter\n",
        "import matplotlib.pyplot as plt\n",
        "puncs =set((',', '.', '--', '-', '!', '?',':', ';', '``', \"''\", '(', ')', '[', ']'))\n",
        "word_list =(x.lower() for x in brown.words() if x not in puncs)\n",
        "token_counts = Counter(word_list)\n",
        "sore=sorted(token_counts.values(),reverse=True)\n"
      ],
      "metadata": {
        "id": "lB6Zi0gQocjv"
      },
      "execution_count": 14,
      "outputs": []
    },
    {
      "cell_type": "code",
      "source": [
        "from collections import Counter\n",
        "import matplotlib.pyplot as plt\n",
        "puncs =set((',', '.', '--', '-', '!', '?',':', ';', '``', \"''\", '(', ')', '[', ']'))\n",
        "word_list =(x.lower() for x in brown.words() if x not in puncs)\n",
        "token_counts = Counter(word_list)\n",
        "# Sort the token counts by frequency\n",
        "most_common_100 = token_counts.most_common(20)\n",
        "# Extract the words and counts\n",
        "words, counts = zip(*most_common_100)\n",
        "# Plot the counts\n",
        "plt.plot(words, counts, marker='o')\n",
        "\n",
        "plt.ylabel('Token Counts')\n",
        "plt.show()"
      ],
      "metadata": {
        "colab": {
          "base_uri": "https://localhost:8080/",
          "height": 430
        },
        "id": "-BXZv7Yu3FYu",
        "outputId": "cf8d756c-7783-4b7e-89c2-e8295de11643"
      },
      "execution_count": 15,
      "outputs": [
        {
          "output_type": "display_data",
          "data": {
            "text/plain": [
              "<Figure size 640x480 with 1 Axes>"
            ],
            "image/png": "[encoded data removed]"
          },
          "metadata": {}
        }
      ]
    },
    {
      "cell_type": "code",
      "source": [
        "#Topic modeling\n",
        "kite_text = \"\"\"A kite is traditionally a tethered heavier-than-air craft with wing surfaces that react against the air to create lift and drag. A kite consists of wings, tethers, and anchors. Kites often have a bridle to guide the face of the kite at the correct angle so the wind can lift it. A kite's wing also may be so designed so a bridle is not needed; when kiting a sailplane for launch, the tether meets the wing at a single point. A kite may have fixed or moving anchors. Untraditionally in technical kiting, a kite consists of tether-set-coupled wing sets; even in technical kiting, though, a wing in the system is still often called the kite.\n",
        "\n",
        "The lift that sustains the kite in flight is generated when air flows around the kite's surface, producing low pressure above and high pressure below the wings. The interaction with the wind also generates horizontal drag along the direction of the wind. The resultant force vector from the lift and drag force components is opposed by the tension of one or more of the lines or tethers to which the kite is attached. The anchor point of the kite line may be static or moving (e.g., the towing of a kite by a running person, boat, free-falling anchors as in paragliders and fugitive parakites or vehicle).\n",
        "\n",
        "The same principles of fluid flow apply in liquids and kites are also used under water.\n",
        "\n",
        "A hybrid tethered craft comprising both a lighter-than-air balloon as well as a kite lifting surface is called a kytoon.\n",
        "\n",
        "Kites have a long and varied history and many different types are flown individually and at festivals worldwide. Kites may be flown for recreation, art or other practical uses. Sport kites can be flown in aerial ballet, sometimes as part of a competition. Power kites are multi-line steerable kites designed to generate large forces which can be used to power activities such as kite surfing, kite landboarding, kite fishing, kite buggying and a new trend snow kiting. Even Man-lifting kites have been made.\n",
        "\"\"\"\n",
        "\n",
        "kite_history=\"\"\"Kites were invented in China, where materials ideal for kite building were readily available: silk fabric for sail material; fine, high-tensile-strength silk for flying line; and resilient bamboo for a strong, lightweight framework.\n",
        "\n",
        "The kite has been claimed as the invention of the 5th-century BC Chinese philosophers Mozi (also Mo Di) and Lu Ban (also Gongshu Ban). By 549 AD paper kites were certainly being flown, as it was recorded that in that year a paper kite was used as a message for a rescue mission. Ancient and medieval Chinese sources describe kites being used for measuring distances, testing the wind, lifting men, signaling, and communication for military operations. The earliest known Chinese kites were flat (not bowed) and often rectangular. Later, tailless kites incorporated a stabilizing bowline. Kites were decorated with mythological motifs and legendary figures; some were fitted with strings and whistles to make musical sounds while flying. From China, kites were introduced to Cambodia, Thailand, India, Japan, Korea and the western world.\n",
        "\n",
        "After its introduction into India, the kite further evolved into the fighter kite, known as the patang in India, where thousands are flown every year on festivals such as Makar Sankranti.\n",
        "\n",
        "Kites were known throughout Polynesia, as far as New Zealand, with the assumption being that the knowledge diffused from China along with the people. Anthropomorphic kites made from cloth and wood were used in religious ceremonies to send prayers to the gods. Polynesian kite traditions are used by anthropologists get an idea of early \"primitive\" Asian traditions that are believed to have at one time existed in Asia.\n",
        "\"\"\"\n",
        "kite_Intro =kite_text.lower()\n",
        "intro_tokens =tokenizer.tokenize(kite_Intro)\n",
        "print(f\"{intro_tokens} \\n\\n length og kite_text:{len(intro_tokens)}\")\n",
        "\n",
        "kite_history =kite_history.lower()\n",
        "history_tokens =tokenizer.tokenize(kite_history)\n",
        "print(f\"{history_tokens} \\n\\n length og kite_history:{len(history_tokens)}\")"
      ],
      "metadata": {
        "colab": {
          "base_uri": "https://localhost:8080/"
        },
        "id": "8nsWRqWUzVmb",
        "outputId": "9a530fac-c698-43ee-8f28-de79e5a50e80"
      },
      "execution_count": 16,
      "outputs": [
        {
          "output_type": "stream",
          "name": "stdout",
          "text": [
            "['a', 'kite', 'is', 'traditionally', 'a', 'tethered', 'heavier-than-air', 'craft', 'with', 'wing', 'surfaces', 'that', 'react', 'against', 'the', 'air', 'to', 'create', 'lift', 'and', 'drag.', 'a', 'kite', 'consists', 'of', 'wings', ',', 'tethers', ',', 'and', 'anchors.', 'kites', 'often', 'have', 'a', 'bridle', 'to', 'guide', 'the', 'face', 'of', 'the', 'kite', 'at', 'the', 'correct', 'angle', 'so', 'the', 'wind', 'can', 'lift', 'it.', 'a', 'kite', \"'s\", 'wing', 'also', 'may', 'be', 'so', 'designed', 'so', 'a', 'bridle', 'is', 'not', 'needed', ';', 'when', 'kiting', 'a', 'sailplane', 'for', 'launch', ',', 'the', 'tether', 'meets', 'the', 'wing', 'at', 'a', 'single', 'point.', 'a', 'kite', 'may', 'have', 'fixed', 'or', 'moving', 'anchors.', 'untraditionally', 'in', 'technical', 'kiting', ',', 'a', 'kite', 'consists', 'of', 'tether-set-coupled', 'wing', 'sets', ';', 'even', 'in', 'technical', 'kiting', ',', 'though', ',', 'a', 'wing', 'in', 'the', 'system', 'is', 'still', 'often', 'called', 'the', 'kite.', 'the', 'lift', 'that', 'sustains', 'the', 'kite', 'in', 'flight', 'is', 'generated', 'when', 'air', 'flows', 'around', 'the', 'kite', \"'s\", 'surface', ',', 'producing', 'low', 'pressure', 'above', 'and', 'high', 'pressure', 'below', 'the', 'wings.', 'the', 'interaction', 'with', 'the', 'wind', 'also', 'generates', 'horizontal', 'drag', 'along', 'the', 'direction', 'of', 'the', 'wind.', 'the', 'resultant', 'force', 'vector', 'from', 'the', 'lift', 'and', 'drag', 'force', 'components', 'is', 'opposed', 'by', 'the', 'tension', 'of', 'one', 'or', 'more', 'of', 'the', 'lines', 'or', 'tethers', 'to', 'which', 'the', 'kite', 'is', 'attached.', 'the', 'anchor', 'point', 'of', 'the', 'kite', 'line', 'may', 'be', 'static', 'or', 'moving', '(', 'e.g.', ',', 'the', 'towing', 'of', 'a', 'kite', 'by', 'a', 'running', 'person', ',', 'boat', ',', 'free-falling', 'anchors', 'as', 'in', 'paragliders', 'and', 'fugitive', 'parakites', 'or', 'vehicle', ')', '.', 'the', 'same', 'principles', 'of', 'fluid', 'flow', 'apply', 'in', 'liquids', 'and', 'kites', 'are', 'also', 'used', 'under', 'water.', 'a', 'hybrid', 'tethered', 'craft', 'comprising', 'both', 'a', 'lighter-than-air', 'balloon', 'as', 'well', 'as', 'a', 'kite', 'lifting', 'surface', 'is', 'called', 'a', 'kytoon.', 'kites', 'have', 'a', 'long', 'and', 'varied', 'history', 'and', 'many', 'different', 'types', 'are', 'flown', 'individually', 'and', 'at', 'festivals', 'worldwide.', 'kites', 'may', 'be', 'flown', 'for', 'recreation', ',', 'art', 'or', 'other', 'practical', 'uses.', 'sport', 'kites', 'can', 'be', 'flown', 'in', 'aerial', 'ballet', ',', 'sometimes', 'as', 'part', 'of', 'a', 'competition.', 'power', 'kites', 'are', 'multi-line', 'steerable', 'kites', 'designed', 'to', 'generate', 'large', 'forces', 'which', 'can', 'be', 'used', 'to', 'power', 'activities', 'such', 'as', 'kite', 'surfing', ',', 'kite', 'landboarding', ',', 'kite', 'fishing', ',', 'kite', 'buggying', 'and', 'a', 'new', 'trend', 'snow', 'kiting.', 'even', 'man-lifting', 'kites', 'have', 'been', 'made', '.'] \n",
            "\n",
            " length og kite_text:363\n",
            "['kites', 'were', 'invented', 'in', 'china', ',', 'where', 'materials', 'ideal', 'for', 'kite', 'building', 'were', 'readily', 'available', ':', 'silk', 'fabric', 'for', 'sail', 'material', ';', 'fine', ',', 'high-tensile-strength', 'silk', 'for', 'flying', 'line', ';', 'and', 'resilient', 'bamboo', 'for', 'a', 'strong', ',', 'lightweight', 'framework.', 'the', 'kite', 'has', 'been', 'claimed', 'as', 'the', 'invention', 'of', 'the', '5th-century', 'bc', 'chinese', 'philosophers', 'mozi', '(', 'also', 'mo', 'di', ')', 'and', 'lu', 'ban', '(', 'also', 'gongshu', 'ban', ')', '.', 'by', '549', 'ad', 'paper', 'kites', 'were', 'certainly', 'being', 'flown', ',', 'as', 'it', 'was', 'recorded', 'that', 'in', 'that', 'year', 'a', 'paper', 'kite', 'was', 'used', 'as', 'a', 'message', 'for', 'a', 'rescue', 'mission.', 'ancient', 'and', 'medieval', 'chinese', 'sources', 'describe', 'kites', 'being', 'used', 'for', 'measuring', 'distances', ',', 'testing', 'the', 'wind', ',', 'lifting', 'men', ',', 'signaling', ',', 'and', 'communication', 'for', 'military', 'operations.', 'the', 'earliest', 'known', 'chinese', 'kites', 'were', 'flat', '(', 'not', 'bowed', ')', 'and', 'often', 'rectangular.', 'later', ',', 'tailless', 'kites', 'incorporated', 'a', 'stabilizing', 'bowline.', 'kites', 'were', 'decorated', 'with', 'mythological', 'motifs', 'and', 'legendary', 'figures', ';', 'some', 'were', 'fitted', 'with', 'strings', 'and', 'whistles', 'to', 'make', 'musical', 'sounds', 'while', 'flying.', 'from', 'china', ',', 'kites', 'were', 'introduced', 'to', 'cambodia', ',', 'thailand', ',', 'india', ',', 'japan', ',', 'korea', 'and', 'the', 'western', 'world.', 'after', 'its', 'introduction', 'into', 'india', ',', 'the', 'kite', 'further', 'evolved', 'into', 'the', 'fighter', 'kite', ',', 'known', 'as', 'the', 'patang', 'in', 'india', ',', 'where', 'thousands', 'are', 'flown', 'every', 'year', 'on', 'festivals', 'such', 'as', 'makar', 'sankranti.', 'kites', 'were', 'known', 'throughout', 'polynesia', ',', 'as', 'far', 'as', 'new', 'zealand', ',', 'with', 'the', 'assumption', 'being', 'that', 'the', 'knowledge', 'diffused', 'from', 'china', 'along', 'with', 'the', 'people.', 'anthropomorphic', 'kites', 'made', 'from', 'cloth', 'and', 'wood', 'were', 'used', 'in', 'religious', 'ceremonies', 'to', 'send', 'prayers', 'to', 'the', 'gods.', 'polynesian', 'kite', 'traditions', 'are', 'used', 'by', 'anthropologists', 'get', 'an', 'idea', 'of', 'early', '``', 'primitive', \"''\", 'asian', 'traditions', 'that', 'are', 'believed', 'to', 'have', 'at', 'one', 'time', 'existed', 'in', 'asia', '.'] \n",
            "\n",
            " length og kite_history:297\n"
          ]
        }
      ]
    },
    {
      "cell_type": "code",
      "source": [
        "intro_tf={}\n",
        "history_tf={}\n",
        "intro_counts=Counter(intro_tokens)\n",
        "history_counts =Counter(history_tokens)\n",
        "intro_tf['kite'] =intro_counts['kite']/len(intro_tokens)\n",
        "history_tf['kite'] =history_counts['kite']/len(history_tokens)\n",
        "print(intro_tf)\n",
        "print(history_tf)\n"
      ],
      "metadata": {
        "colab": {
          "base_uri": "https://localhost:8080/"
        },
        "id": "1LVDy8Jg52JR",
        "outputId": "685ef1d2-a99f-4d49-a847-f7fa70cd4a3d"
      },
      "execution_count": 17,
      "outputs": [
        {
          "output_type": "stream",
          "name": "stdout",
          "text": [
            "{'kite': 0.0440771349862259}\n",
            "{'kite': 0.020202020202020204}\n"
          ]
        }
      ]
    },
    {
      "cell_type": "code",
      "source": [
        "intro_tf['and'] =intro_counts['and']/len(intro_tokens)\n",
        "history_tf['and'] =history_counts['and']/len(history_tokens)\n",
        "print(intro_tf)\n",
        "print(history_tf)"
      ],
      "metadata": {
        "colab": {
          "base_uri": "https://localhost:8080/"
        },
        "id": "xFR6uMwZ7_Cu",
        "outputId": "f23a36ab-a7d6-46d3-a715-db2a979aee35"
      },
      "execution_count": 18,
      "outputs": [
        {
          "output_type": "stream",
          "name": "stdout",
          "text": [
            "{'kite': 0.0440771349862259, 'and': 0.027548209366391185}\n",
            "{'kite': 0.020202020202020204, 'and': 0.030303030303030304}\n"
          ]
        }
      ]
    },
    {
      "cell_type": "code",
      "source": [
        "intro_tf['china'] =intro_counts['china']/len(intro_tokens)\n",
        "history_tf['china'] =history_counts['china']/len(history_tokens)\n",
        "print(intro_tf)\n",
        "print(history_tf)"
      ],
      "metadata": {
        "colab": {
          "base_uri": "https://localhost:8080/"
        },
        "id": "EtSdZPCA8Jz6",
        "outputId": "c3f8101c-b29c-43d4-d272-8db8c7dbb727"
      },
      "execution_count": 19,
      "outputs": [
        {
          "output_type": "stream",
          "name": "stdout",
          "text": [
            "{'kite': 0.0440771349862259, 'and': 0.027548209366391185, 'china': 0.0}\n",
            "{'kite': 0.020202020202020204, 'and': 0.030303030303030304, 'china': 0.010101010101010102}\n"
          ]
        }
      ]
    },
    {
      "cell_type": "code",
      "source": [
        "num_docs_containing_and =0\n",
        "num_docs_containing_kite =0\n",
        "num_docs_containing_china=0\n",
        "for doc in [intro_tokens,history_tokens]:\n",
        "  if 'and' in doc:\n",
        "    num_docs_containing_and +=1\n",
        "  if 'china' in doc:\n",
        "    num_docs_containing_china +=1\n",
        "  if 'kite' in doc:\n",
        "    num_docs_containing_kite +=1\n",
        "\n",
        "num_docs=2\n",
        "intro_idf ={}\n",
        "history_idf ={}\n",
        "intro_idf['and'] =num_docs/num_docs_containing_and\n",
        "history_idf['and'] =num_docs/num_docs_containing_and\n",
        "intro_idf['kite'] = num_docs / num_docs_containing_kite\n",
        "history_idf['kite'] = num_docs / num_docs_containing_kite\n",
        "intro_idf['china'] = num_docs / num_docs_containing_china\n",
        "history_idf['china'] = num_docs / num_docs_containing_china\n",
        "print(intro_idf)\n",
        "print(history_idf)"
      ],
      "metadata": {
        "colab": {
          "base_uri": "https://localhost:8080/"
        },
        "id": "TQog5Kgb81Mz",
        "outputId": "5ecd32be-7f43-4c9b-e4a0-dcb7e321f924"
      },
      "execution_count": 20,
      "outputs": [
        {
          "output_type": "stream",
          "name": "stdout",
          "text": [
            "{'and': 1.0, 'kite': 1.0, 'china': 2.0}\n",
            "{'and': 1.0, 'kite': 1.0, 'china': 2.0}\n"
          ]
        }
      ]
    },
    {
      "cell_type": "code",
      "source": [
        "intro_tfidf = {}\n",
        "intro_tfidf['and'] = intro_tf['and'] * intro_idf['and']\n",
        "intro_tfidf['kite'] = intro_tf['kite'] * intro_idf['kite']\n",
        "intro_tfidf['china'] = intro_tf['china'] * intro_idf['china']\n",
        "\n",
        "history_tfidf={}\n",
        "history_tfidf['and'] = history_tf['and'] * history_idf['and']\n",
        "history_tfidf['kite'] = history_tf['kite'] * history_idf['kite']\n",
        "history_tfidf['china'] = history_tf['china'] * history_idf['china']\n",
        "\n",
        "print(intro_tfidf)\n",
        "print(history_tfidf)"
      ],
      "metadata": {
        "colab": {
          "base_uri": "https://localhost:8080/"
        },
        "id": "oFdmT0Bc_BMG",
        "outputId": "fc30c40f-ba7d-4a8d-b663-10200adf1f68"
      },
      "execution_count": 21,
      "outputs": [
        {
          "output_type": "stream",
          "name": "stdout",
          "text": [
            "{'and': 0.027548209366391185, 'kite': 0.0440771349862259, 'china': 0.0}\n",
            "{'and': 0.030303030303030304, 'kite': 0.020202020202020204, 'china': 0.020202020202020204}\n"
          ]
        }
      ]
    },
    {
      "cell_type": "code",
      "source": [
        "document_tfidf_vectors=[]\n",
        "for doc in docs :\n",
        "  vec =copy.copy(zero_vector)\n",
        "  tokens=tokenizer.tokenize(doc.lower())\n",
        "  token_counts =Counter(tokens)\n",
        "\n",
        "  for key,value in token_counts.items():\n",
        "    docs_containing_key =0\n",
        "    for _doc in docs:\n",
        "      if key in _doc:\n",
        "        docs_containing_key +=1\n",
        "    tf =value/len(lexicon)\n",
        "    if docs_containing_key:\n",
        "      idf =len(docs)/docs_containing_key\n",
        "    else:\n",
        "      idf =0\n",
        "    vec[key] =tf*idf\n",
        "  document_tfidf_vectors.append(vec)\n",
        "document_tfidf_vectors\n"
      ],
      "metadata": {
        "colab": {
          "base_uri": "https://localhost:8080/"
        },
        "id": "xnBldWpF_VUB",
        "outputId": "de277947-a5cb-46be-cb84-b37d9db85705"
      },
      "execution_count": 22,
      "outputs": [
        {
          "output_type": "execute_result",
          "data": {
            "text/plain": [
              "[OrderedDict([(',', 0.16666666666666666),\n",
              "              ('.', 0.05555555555555555),\n",
              "              ('and', 0.08333333333333333),\n",
              "              ('as', 0),\n",
              "              ('faster', 0.25),\n",
              "              ('get', 0.16666666666666666),\n",
              "              ('got', 0.16666666666666666),\n",
              "              ('hairy', 0),\n",
              "              ('harry', 0.0),\n",
              "              ('home', 0.16666666666666666),\n",
              "              ('is', 0),\n",
              "              ('jill', 0),\n",
              "              ('not', 0),\n",
              "              ('store', 0.16666666666666666),\n",
              "              ('than', 0),\n",
              "              ('the', 0.5),\n",
              "              ('to', 0.16666666666666666),\n",
              "              ('would', 0.16666666666666666)]),\n",
              " OrderedDict([(',', 0),\n",
              "              ('.', 0.05555555555555555),\n",
              "              ('and', 0.08333333333333333),\n",
              "              ('as', 0),\n",
              "              ('faster', 0.08333333333333333),\n",
              "              ('get', 0),\n",
              "              ('got', 0),\n",
              "              ('hairy', 0.08333333333333333),\n",
              "              ('harry', 0.0),\n",
              "              ('home', 0),\n",
              "              ('is', 0.08333333333333333),\n",
              "              ('jill', 0.0),\n",
              "              ('not', 0),\n",
              "              ('store', 0),\n",
              "              ('than', 0.16666666666666666),\n",
              "              ('the', 0),\n",
              "              ('to', 0),\n",
              "              ('would', 0)]),\n",
              " OrderedDict([(',', 0),\n",
              "              ('.', 0.05555555555555555),\n",
              "              ('and', 0),\n",
              "              ('as', 0.1111111111111111),\n",
              "              ('faster', 0),\n",
              "              ('get', 0),\n",
              "              ('got', 0),\n",
              "              ('hairy', 0.08333333333333333),\n",
              "              ('harry', 0.0),\n",
              "              ('home', 0),\n",
              "              ('is', 0.08333333333333333),\n",
              "              ('jill', 0.0),\n",
              "              ('not', 0.16666666666666666),\n",
              "              ('store', 0),\n",
              "              ('than', 0),\n",
              "              ('the', 0),\n",
              "              ('to', 0),\n",
              "              ('would', 0)])]"
            ]
          },
          "metadata": {},
          "execution_count": 22
        }
      ]
    },
    {
      "cell_type": "markdown",
      "source": [
        "Two vectors are considered similar if their cosine similarity is high, so you can find\n",
        "two similar vectors near each other if they minimize"
      ],
      "metadata": {
        "id": "ou8cZCS_ZQIw"
      }
    },
    {
      "cell_type": "code",
      "source": [
        "query = \"How long does it take to get to the store?\"\n",
        "query_vec= copy.copy(zero_vector)\n",
        "tokens = tokenizer.tokenize(query.lower())\n",
        "token_counts =Counter(tokens)\n",
        "tokens\n",
        "for key,value in token_counts.items():\n",
        "  docs_containing_key = 0\n",
        "  for doc in docs:\n",
        "    if key in doc.lower():\n",
        "      docs_containing_key +=1\n",
        "    if docs_containing_key ==0:\n",
        "      continue\n",
        "\n",
        "    tf =value/len(tokens)\n",
        "    idf =len(docs)/docs_containing_key\n",
        "    query_vec[key] =tf*idf\n",
        "\n",
        "\n",
        "print(cosine_sim(query_vec,document_tfidf_vectors[0]))\n",
        "print(cosine_sim(query_vec,document_tfidf_vectors[1]))\n",
        "print(cosine_sim(query_vec,document_tfidf_vectors[2]))\n"
      ],
      "metadata": {
        "colab": {
          "base_uri": "https://localhost:8080/"
        },
        "id": "5AsL2ewCZMKB",
        "outputId": "2b285bce-7496-4532-a0d4-d465c922d891"
      },
      "execution_count": 23,
      "outputs": [
        {
          "output_type": "stream",
          "name": "stdout",
          "text": [
            "0.6132857433407973\n",
            "0.0\n",
            "0.0\n"
          ]
        }
      ]
    },
    {
      "cell_type": "code",
      "source": [
        "#Tools\n",
        "# !pip install scipy\n",
        "# !pip install sklearn\n",
        "# !pip install --upgrade setuptools"
      ],
      "metadata": {
        "id": "hU1kmuUtdsde"
      },
      "execution_count": 24,
      "outputs": []
    },
    {
      "cell_type": "markdown",
      "source": [
        "The **TFIDFVectorizer** model produces a sparse numpy matrix, because\n",
        "a TF-IDF matrix usually contains mostly zeros, since most documents\n",
        "use a small portion of the total words in the vocabulary\n",
        "\n",
        "The **.todense()** method converts a sparse matrix\n",
        "back into a regular numpy matrix (filling in the\n",
        "gaps with zeros) for your viewing pleasure"
      ],
      "metadata": {
        "id": "0NJJvDz_fD_b"
      }
    },
    {
      "cell_type": "code",
      "source": [
        "from sklearn.feature_extraction.text import TfidfVectorizer\n",
        "corpus =docs\n",
        "vectorizer =TfidfVectorizer(min_df=1)\n",
        "model =vectorizer.fit_transform(corpus)\n",
        "print(vectorizer.get_feature_names_out())\n",
        "print(model.todense().round(2))"
      ],
      "metadata": {
        "colab": {
          "base_uri": "https://localhost:8080/"
        },
        "id": "ZkL6wS4vduCX",
        "outputId": "e66858b9-0a20-4771-9887-ae39616d79b2"
      },
      "execution_count": 27,
      "outputs": [
        {
          "output_type": "stream",
          "name": "stdout",
          "text": [
            "['and' 'as' 'faster' 'get' 'got' 'hairy' 'harry' 'home' 'is' 'jill' 'not'\n",
            " 'store' 'than' 'the' 'to' 'would']\n",
            "[[0.16 0.   0.48 0.21 0.21 0.   0.25 0.21 0.   0.   0.   0.21 0.   0.64\n",
            "  0.21 0.21]\n",
            " [0.37 0.   0.37 0.   0.   0.37 0.29 0.   0.37 0.37 0.   0.   0.49 0.\n",
            "  0.   0.  ]\n",
            " [0.   0.75 0.   0.   0.   0.29 0.22 0.   0.29 0.29 0.38 0.   0.   0.\n",
            "  0.   0.  ]]\n"
          ]
        }
      ]
    },
    {
      "cell_type": "markdown",
      "source": [
        "![Screenshot 2024-08-18 040938.png](data:image/png;base64,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)"
      ],
      "metadata": {
        "id": "Xk_j7lYAfzFO"
      }
    },
    {
      "cell_type": "code",
      "source": [],
      "metadata": {
        "id": "fDyynro4gA_B"
      },
      "execution_count": null,
      "outputs": []
    }
  ]
}